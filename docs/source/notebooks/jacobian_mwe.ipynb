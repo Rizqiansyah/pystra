{
 "cells": [
  {
   "cell_type": "code",
   "execution_count": 9,
   "id": "1ab10a0d-1c84-48bf-8996-c34ead17f1c2",
   "metadata": {},
   "outputs": [],
   "source": [
    "import pystra as pr\n",
    "import numpy as np"
   ]
  },
  {
   "cell_type": "code",
   "execution_count": 10,
   "id": "aaf69510-8e42-419d-ab84-258e3ae69338",
   "metadata": {},
   "outputs": [],
   "source": [
    "def lsf(wr,Mr,wl,Mdl,Mll):\n",
    "    g = wr*1 - wl*abs((Mdl+Mll)/Mr)\n",
    "    return g"
   ]
  },
  {
   "cell_type": "code",
   "execution_count": 11,
   "id": "f36c5ad2-fe73-4d43-a036-c2b86181ac23",
   "metadata": {},
   "outputs": [],
   "source": [
    "limit_state = pr.LimitState(lsf)\n",
    "model = pr.StochasticModel()\n",
    "options = pr.AnalysisOptions()\n",
    "options.setE1(1e-6)\n",
    "options.setE2(1e-6)\n",
    "options.setPrintOutput(False)"
   ]
  },
  {
   "cell_type": "code",
   "execution_count": 12,
   "id": "38248b09-9849-42c7-97dd-c8506009373b",
   "metadata": {},
   "outputs": [],
   "source": [
    "# DL\n",
    "mu = 8 * 0.97\n",
    "sd = mu * 0.08\n",
    "model.addVariable(pr.Normal(\"Mdl\",mu,sd))"
   ]
  },
  {
   "cell_type": "code",
   "execution_count": 13,
   "id": "014753ee-a83a-4b54-9438-76b43c2c146c",
   "metadata": {},
   "outputs": [],
   "source": [
    "# LL\n",
    "mu = 156 * 0.95\n",
    "sd = 0.06 * mu\n",
    "model.addVariable(pr.Gumbel(\"Mll\",mu,sd))"
   ]
  },
  {
   "cell_type": "code",
   "execution_count": 14,
   "id": "58ee95b8-cbf4-4c08-a514-192e8ebc606d",
   "metadata": {},
   "outputs": [],
   "source": [
    "# Model errors\n",
    "model.addVariable(pr.Normal(\"wl\",1.0,0.05))\n",
    "model.addVariable(pr.Lognormal(\"wr\",1.0,0.05))"
   ]
  },
  {
   "cell_type": "code",
   "execution_count": 15,
   "id": "a17739b2-b38c-4b6e-bba7-d8748961e36f",
   "metadata": {},
   "outputs": [],
   "source": [
    "# Mr\n",
    "mu = 1820 / 0.95\n",
    "sd = 0.1 * mu\n",
    "model.addVariable(pr.Lognormal(\"Mr\",mu,sd))"
   ]
  },
  {
   "cell_type": "code",
   "execution_count": 16,
   "id": "a73758de-aa8a-4b18-acbb-a6aab3aa951d",
   "metadata": {
    "tags": []
   },
   "outputs": [
    {
     "ename": "LinAlgError",
     "evalue": "Singular matrix",
     "output_type": "error",
     "traceback": [
      "\u001b[1;31m-------------------------------------------------------------\u001b[0m",
      "\u001b[1;31mLinAlgError\u001b[0m                 Traceback (most recent call last)",
      "Input \u001b[1;32mIn [16]\u001b[0m, in \u001b[0;36m<cell line: 1>\u001b[1;34m()\u001b[0m\n\u001b[1;32m----> 1\u001b[0m form \u001b[38;5;241m=\u001b[39m \u001b[43mpr\u001b[49m\u001b[38;5;241;43m.\u001b[39;49m\u001b[43mForm\u001b[49m\u001b[43m(\u001b[49m\u001b[43mlimit_state\u001b[49m\u001b[38;5;241;43m=\u001b[39;49m\u001b[43mlimit_state\u001b[49m\u001b[43m,\u001b[49m\u001b[43mstochastic_model\u001b[49m\u001b[38;5;241;43m=\u001b[39;49m\u001b[43mmodel\u001b[49m\u001b[43m,\u001b[49m\u001b[43manalysis_options\u001b[49m\u001b[38;5;241;43m=\u001b[39;49m\u001b[43moptions\u001b[49m\u001b[43m)\u001b[49m\n",
      "File \u001b[1;32m~\\Miniconda3\\envs\\pystra\\lib\\site-packages\\pystra\\form.py:109\u001b[0m, in \u001b[0;36mForm.__init__\u001b[1;34m(self, analysis_options, limit_state, stochastic_model)\u001b[0m\n\u001b[0;32m    106\u001b[0m \u001b[38;5;28mself\u001b[39m\u001b[38;5;241m.\u001b[39mcomputeTransformation()\n\u001b[0;32m    108\u001b[0m \u001b[38;5;66;03m# Compute the Jacobian\u001b[39;00m\n\u001b[1;32m--> 109\u001b[0m \u001b[38;5;28;43mself\u001b[39;49m\u001b[38;5;241;43m.\u001b[39;49m\u001b[43mcomputeJacobian\u001b[49m\u001b[43m(\u001b[49m\u001b[43m)\u001b[49m\n\u001b[0;32m    111\u001b[0m \u001b[38;5;66;03m# Evaluate limit-state function and its gradient\u001b[39;00m\n\u001b[0;32m    112\u001b[0m \u001b[38;5;28mself\u001b[39m\u001b[38;5;241m.\u001b[39mcomputeLimitState()\n",
      "File \u001b[1;32m~\\Miniconda3\\envs\\pystra\\lib\\site-packages\\pystra\\form.py:181\u001b[0m, in \u001b[0;36mForm.computeJacobian\u001b[1;34m(self)\u001b[0m\n\u001b[0;32m    179\u001b[0m \u001b[38;5;124;03m\"\"\"Compute the Jacobian\"\"\"\u001b[39;00m\n\u001b[0;32m    180\u001b[0m J_u_x \u001b[38;5;241m=\u001b[39m jacobian(\u001b[38;5;28mself\u001b[39m\u001b[38;5;241m.\u001b[39mu, \u001b[38;5;28mself\u001b[39m\u001b[38;5;241m.\u001b[39mx, \u001b[38;5;28mself\u001b[39m\u001b[38;5;241m.\u001b[39mmodel)\n\u001b[1;32m--> 181\u001b[0m J_x_u \u001b[38;5;241m=\u001b[39m \u001b[43mnp\u001b[49m\u001b[38;5;241;43m.\u001b[39;49m\u001b[43mlinalg\u001b[49m\u001b[38;5;241;43m.\u001b[39;49m\u001b[43minv\u001b[49m\u001b[43m(\u001b[49m\u001b[43mJ_u_x\u001b[49m\u001b[43m)\u001b[49m\n\u001b[0;32m    182\u001b[0m \u001b[38;5;28mself\u001b[39m\u001b[38;5;241m.\u001b[39mJ \u001b[38;5;241m=\u001b[39m J_x_u\n",
      "File \u001b[1;32m<__array_function__ internals>:180\u001b[0m, in \u001b[0;36minv\u001b[1;34m(*args, **kwargs)\u001b[0m\n",
      "File \u001b[1;32m~\\Miniconda3\\envs\\pystra\\lib\\site-packages\\numpy\\linalg\\linalg.py:545\u001b[0m, in \u001b[0;36minv\u001b[1;34m(a)\u001b[0m\n\u001b[0;32m    543\u001b[0m signature \u001b[38;5;241m=\u001b[39m \u001b[38;5;124m'\u001b[39m\u001b[38;5;124mD->D\u001b[39m\u001b[38;5;124m'\u001b[39m \u001b[38;5;28;01mif\u001b[39;00m isComplexType(t) \u001b[38;5;28;01melse\u001b[39;00m \u001b[38;5;124m'\u001b[39m\u001b[38;5;124md->d\u001b[39m\u001b[38;5;124m'\u001b[39m\n\u001b[0;32m    544\u001b[0m extobj \u001b[38;5;241m=\u001b[39m get_linalg_error_extobj(_raise_linalgerror_singular)\n\u001b[1;32m--> 545\u001b[0m ainv \u001b[38;5;241m=\u001b[39m \u001b[43m_umath_linalg\u001b[49m\u001b[38;5;241;43m.\u001b[39;49m\u001b[43minv\u001b[49m\u001b[43m(\u001b[49m\u001b[43ma\u001b[49m\u001b[43m,\u001b[49m\u001b[43m \u001b[49m\u001b[43msignature\u001b[49m\u001b[38;5;241;43m=\u001b[39;49m\u001b[43msignature\u001b[49m\u001b[43m,\u001b[49m\u001b[43m \u001b[49m\u001b[43mextobj\u001b[49m\u001b[38;5;241;43m=\u001b[39;49m\u001b[43mextobj\u001b[49m\u001b[43m)\u001b[49m\n\u001b[0;32m    546\u001b[0m \u001b[38;5;28;01mreturn\u001b[39;00m wrap(ainv\u001b[38;5;241m.\u001b[39mastype(result_t, copy\u001b[38;5;241m=\u001b[39m\u001b[38;5;28;01mFalse\u001b[39;00m))\n",
      "File \u001b[1;32m~\\Miniconda3\\envs\\pystra\\lib\\site-packages\\numpy\\linalg\\linalg.py:88\u001b[0m, in \u001b[0;36m_raise_linalgerror_singular\u001b[1;34m(err, flag)\u001b[0m\n\u001b[0;32m     87\u001b[0m \u001b[38;5;28;01mdef\u001b[39;00m \u001b[38;5;21m_raise_linalgerror_singular\u001b[39m(err, flag):\n\u001b[1;32m---> 88\u001b[0m     \u001b[38;5;28;01mraise\u001b[39;00m LinAlgError(\u001b[38;5;124m\"\u001b[39m\u001b[38;5;124mSingular matrix\u001b[39m\u001b[38;5;124m\"\u001b[39m)\n",
      "\u001b[1;31mLinAlgError\u001b[0m: Singular matrix"
     ]
    }
   ],
   "source": [
    "form = pr.Form(limit_state=limit_state,stochastic_model=model,analysis_options=options)"
   ]
  },
  {
   "cell_type": "code",
   "execution_count": 17,
   "id": "50fc368b-3dd6-4301-8b7b-63299c4161f8",
   "metadata": {},
   "outputs": [
    {
     "name": "stdout",
     "output_type": "stream",
     "text": [
      "==================================================\n",
      "\n",
      "           RUNNING RELIABILITY ANALYSIS\n",
      "\n",
      "==================================================\n",
      "\n",
      " Computation of modified correlation matrix R0\n",
      " Takes some time if sensitivities are to be computed\n",
      " with gamma (3), beta (7) or chi-square (8)\n",
      " distributions.\n",
      " Please wait... (Ctrl+C breaks)\n",
      "\n"
     ]
    },
    {
     "ename": "ValueError",
     "evalue": "not enough values to unpack (expected 2, got 0)",
     "output_type": "error",
     "traceback": [
      "\u001b[1;31m-------------------------------------------------------------\u001b[0m",
      "\u001b[1;31mValueError\u001b[0m                  Traceback (most recent call last)",
      "Input \u001b[1;32mIn [17]\u001b[0m, in \u001b[0;36m<cell line: 1>\u001b[1;34m()\u001b[0m\n\u001b[1;32m----> 1\u001b[0m ff \u001b[38;5;241m=\u001b[39m \u001b[43mpr\u001b[49m\u001b[38;5;241;43m.\u001b[39;49m\u001b[43mForm\u001b[49m\u001b[43m(\u001b[49m\u001b[43m)\u001b[49m\n",
      "File \u001b[1;32m~\\Miniconda3\\envs\\pystra\\lib\\site-packages\\pystra\\form.py:84\u001b[0m, in \u001b[0;36mForm.__init__\u001b[1;34m(self, analysis_options, limit_state, stochastic_model)\u001b[0m\n\u001b[0;32m     81\u001b[0m \u001b[38;5;28mself\u001b[39m\u001b[38;5;241m.\u001b[39mPf \u001b[38;5;241m=\u001b[39m \u001b[38;5;28;01mNone\u001b[39;00m\n\u001b[0;32m     83\u001b[0m \u001b[38;5;66;03m# Computation of modified correlation matrix R0\u001b[39;00m\n\u001b[1;32m---> 84\u001b[0m \u001b[43mcomputeModifiedCorrelationMatrix\u001b[49m\u001b[43m(\u001b[49m\u001b[38;5;28;43mself\u001b[39;49m\u001b[43m)\u001b[49m\n\u001b[0;32m     86\u001b[0m \u001b[38;5;66;03m# Cholesky decomposition\u001b[39;00m\n\u001b[0;32m     87\u001b[0m computeCholeskyDecomposition(\u001b[38;5;28mself\u001b[39m)\n",
      "File \u001b[1;32m~\\Miniconda3\\envs\\pystra\\lib\\site-packages\\pystra\\correlation.py:140\u001b[0m, in \u001b[0;36mcomputeModifiedCorrelationMatrix\u001b[1;34m(self)\u001b[0m\n\u001b[0;32m    137\u001b[0m     \u001b[38;5;28mprint\u001b[39m(\u001b[38;5;124m\"\u001b[39m\u001b[38;5;124m\"\u001b[39m)\n\u001b[0;32m    139\u001b[0m \u001b[38;5;66;03m# Compute corrected correlation coefficients\u001b[39;00m\n\u001b[1;32m--> 140\u001b[0m Ro \u001b[38;5;241m=\u001b[39m \u001b[43mgetModifiedCorrelationMatrix\u001b[49m\u001b[43m(\u001b[49m\u001b[38;5;28;43mself\u001b[39;49m\u001b[38;5;241;43m.\u001b[39;49m\u001b[43mmodel\u001b[49m\u001b[43m)\u001b[49m\n\u001b[0;32m    141\u001b[0m \u001b[38;5;28mself\u001b[39m\u001b[38;5;241m.\u001b[39mmodel\u001b[38;5;241m.\u001b[39msetModifiedCorrelation(Ro)\n",
      "File \u001b[1;32m~\\Miniconda3\\envs\\pystra\\lib\\site-packages\\pystra\\correlation.py:62\u001b[0m, in \u001b[0;36mgetModifiedCorrelationMatrix\u001b[1;34m(stochastic_model)\u001b[0m\n\u001b[0;32m     60\u001b[0m R \u001b[38;5;241m=\u001b[39m stochastic_model\u001b[38;5;241m.\u001b[39mgetCorrelation()\n\u001b[0;32m     61\u001b[0m nvr \u001b[38;5;241m=\u001b[39m \u001b[38;5;28mlen\u001b[39m(marg)\n\u001b[1;32m---> 62\u001b[0m n, m \u001b[38;5;241m=\u001b[39m np\u001b[38;5;241m.\u001b[39mshape(R)\n\u001b[0;32m     63\u001b[0m Ro \u001b[38;5;241m=\u001b[39m np\u001b[38;5;241m.\u001b[39meye(n, m)\n\u001b[0;32m     64\u001b[0m flag_sens \u001b[38;5;241m=\u001b[39m \u001b[38;5;28;01mTrue\u001b[39;00m\n",
      "\u001b[1;31mValueError\u001b[0m: not enough values to unpack (expected 2, got 0)"
     ]
    }
   ],
   "source": [
    "ff = pr.Form()"
   ]
  },
  {
   "cell_type": "code",
   "execution_count": null,
   "id": "2ad3b593-43dc-4831-889f-6ac14ea675fd",
   "metadata": {},
   "outputs": [],
   "source": [
    "np.linalg.cond(form.J)"
   ]
  },
  {
   "cell_type": "code",
   "execution_count": null,
   "id": "d8ef2a29-57df-42c8-b51d-8710090c67ee",
   "metadata": {},
   "outputs": [],
   "source": [
    "form.getBeta()"
   ]
  },
  {
   "cell_type": "code",
   "execution_count": null,
   "id": "a33d21ac-435c-40a8-8a58-a92586083c56",
   "metadata": {},
   "outputs": [],
   "source": []
  }
 ],
 "metadata": {
  "kernelspec": {
   "display_name": "pystra",
   "language": "python",
   "name": "pystra"
  },
  "language_info": {
   "codemirror_mode": {
    "name": "ipython",
    "version": 3
   },
   "file_extension": ".py",
   "mimetype": "text/x-python",
   "name": "python",
   "nbconvert_exporter": "python",
   "pygments_lexer": "ipython3",
   "version": "3.10.5"
  }
 },
 "nbformat": 4,
 "nbformat_minor": 5
}
