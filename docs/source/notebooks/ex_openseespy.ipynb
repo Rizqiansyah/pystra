{
 "cells": [
  {
   "cell_type": "code",
   "execution_count": 1,
   "id": "8f461571-bc0b-470e-8e98-876fa8a27c2f",
   "metadata": {},
   "outputs": [],
   "source": [
    "import openseespy.opensees as ops\n",
    "import opsvis as opsv\n",
    "import pystra as ra\n",
    "import matplotlib.pyplot as plt\n",
    "import numpy as np"
   ]
  },
  {
   "cell_type": "code",
   "execution_count": 6,
   "id": "96d40a43-9e67-4379-9daf-e68672b7b46f",
   "metadata": {},
   "outputs": [],
   "source": [
    "def single_run(E=30e3,P=25.0,w=0.1,x=0.0):\n",
    "    ops.wipe()\n",
    "    ops.model('basic', '-ndm', 2, '-ndf', 3)\n",
    "\n",
    "    ops.node(1, x, 0)\n",
    "    ops.node(2, 0, 144)\n",
    "    ops.node(3, 240, 144)\n",
    "    ops.node(4, 240, 0)\n",
    "\n",
    "    ops.fix(1, 1, 1, 1)\n",
    "    ops.fix(4, 1, 1, 1)\n",
    "\n",
    "    Ag = 25.0\n",
    "    Ig = 1500.0\n",
    "    Ac = 29.0\n",
    "    Ic = 2000.0\n",
    "\n",
    "    gsecTag = 1\n",
    "    ops.section(\"Elastic\", gsecTag, E, Ag, Ig)\n",
    "\n",
    "    csecTag = 2\n",
    "    ops.section(\"Elastic\", csecTag, E, Ac, Ic)\n",
    "\n",
    "    transfTag = 1\n",
    "    ops.geomTransf(\"Linear\", transfTag)\n",
    "\n",
    "    N = 3\n",
    "\n",
    "    gbiTag = 1\n",
    "    ops.beamIntegration(\"Lobatto\", gbiTag, gsecTag, N)\n",
    "    cbiTag = 2\n",
    "    ops.beamIntegration(\"Lobatto\", cbiTag, csecTag, N)\n",
    "\n",
    "    leftColTag = 1\n",
    "    ops.element(\"forceBeamColumn\", leftColTag, 1, 2, transfTag, cbiTag)\n",
    "    girderTag = 2\n",
    "    ops.element(\"forceBeamColumn\", girderTag, 2, 3, transfTag, gbiTag)\n",
    "    rightColTag = 3\n",
    "    ops.element(\"forceBeamColumn\", rightColTag, 3, 4, transfTag, cbiTag)\n",
    "\n",
    "    tsTag = 1\n",
    "    ops.timeSeries(\"Constant\", tsTag)\n",
    "\n",
    "    patternTag = 1\n",
    "    ops.pattern(\"Plain\", patternTag, tsTag)\n",
    "\n",
    "    ops.load(2, P, 0, 0)\n",
    "    ops.eleLoad(\"-ele\", girderTag, \"-type\", \"beamUniform\", -w)\n",
    "\n",
    "    # define these to avoid warnings\n",
    "    ops.constraints('Transformation')\n",
    "    ops.numberer('RCM')\n",
    "    ops.system('BandGeneral')\n",
    "    ops.test('NormDispIncr', 1.0e-6, 6, 2)\n",
    "    ops.algorithm('Linear')\n",
    "    ops.integrator('LoadControl', 1)\n",
    "    ops.analysis('Static')\n",
    "    ops.analyze(1);\n",
    "    \n",
    "    return 0.15 - ops.nodeDisp(2,1)"
   ]
  },
  {
   "cell_type": "code",
   "execution_count": 7,
   "id": "411aec04-eb86-4ed6-96fe-f715fa6edd58",
   "metadata": {},
   "outputs": [],
   "source": [
    "def lsf(E,P,w,x):\n",
    "    n = len(E)\n",
    "    g = np.zeros((n,1))\n",
    "    \n",
    "    for i in range(n):\n",
    "        g[i] = single_run(E[i],P[i],w[i],x[i])\n",
    "    \n",
    "    return g.T"
   ]
  },
  {
   "cell_type": "code",
   "execution_count": 8,
   "id": "18e05178-e4da-435d-985a-bcfc5aa3ef7f",
   "metadata": {},
   "outputs": [],
   "source": [
    "def plot_ops_model_results():\n",
    "    opsv.plot_model();\n",
    "    opsv.plot_loads_2d(sfac=5)\n",
    "    opsv.plot_defo()\n",
    "    sfacN, sfacV, sfacM = 2, 2, 5.e-2\n",
    "    opsv.section_force_diagram_2d('N', sfacN)\n",
    "    plt.title('Axial force distribution')\n",
    "    opsv.section_force_diagram_2d('T', sfacV)\n",
    "    plt.title('Shear force distribution')\n",
    "    opsv.section_force_diagram_2d('M', sfacM)\n",
    "    plt.title('Bending moment distribution')\n",
    "    plt.show()"
   ]
  },
  {
   "cell_type": "code",
   "execution_count": 10,
   "id": "de5ec3b1-13f6-4277-bbef-b7a2da010ac9",
   "metadata": {
    "tags": []
   },
   "outputs": [
    {
     "ename": "NameError",
     "evalue": "name 'leftColTag' is not defined",
     "output_type": "error",
     "traceback": [
      "\u001b[0;31m---------------------------------------------------------------------------\u001b[0m",
      "\u001b[0;31mNameError\u001b[0m                                 Traceback (most recent call last)",
      "\u001b[0;32m/tmp/ipykernel_1155158/3552037871.py\u001b[0m in \u001b[0;36m<module>\u001b[0;34m\u001b[0m\n\u001b[1;32m      9\u001b[0m \u001b[0mops\u001b[0m\u001b[0;34m.\u001b[0m\u001b[0mrandomVariable\u001b[0m\u001b[0;34m(\u001b[0m\u001b[0;36m41\u001b[0m\u001b[0;34m,\u001b[0m \u001b[0;34m'normal'\u001b[0m\u001b[0;34m,\u001b[0m \u001b[0;34m'-mean'\u001b[0m\u001b[0;34m,\u001b[0m \u001b[0;34m-\u001b[0m\u001b[0mw\u001b[0m\u001b[0;34m,\u001b[0m \u001b[0;34m'-stdv'\u001b[0m\u001b[0;34m,\u001b[0m \u001b[0mabs\u001b[0m\u001b[0;34m(\u001b[0m\u001b[0;36m0.2\u001b[0m\u001b[0;34m*\u001b[0m\u001b[0mw\u001b[0m\u001b[0;34m)\u001b[0m\u001b[0;34m)\u001b[0m\u001b[0;34m\u001b[0m\u001b[0;34m\u001b[0m\u001b[0m\n\u001b[1;32m     10\u001b[0m \u001b[0;34m\u001b[0m\u001b[0m\n\u001b[0;32m---> 11\u001b[0;31m \u001b[0mops\u001b[0m\u001b[0;34m.\u001b[0m\u001b[0mparameter\u001b[0m\u001b[0;34m(\u001b[0m\u001b[0;36m12\u001b[0m\u001b[0;34m,\u001b[0m \u001b[0;34m'randomVariable'\u001b[0m\u001b[0;34m,\u001b[0m \u001b[0;36m62\u001b[0m\u001b[0;34m,\u001b[0m \u001b[0;34m\"element\"\u001b[0m\u001b[0;34m,\u001b[0m \u001b[0mleftColTag\u001b[0m\u001b[0;34m,\u001b[0m \u001b[0;34m\"E\"\u001b[0m\u001b[0;34m)\u001b[0m\u001b[0;34m\u001b[0m\u001b[0;34m\u001b[0m\u001b[0m\n\u001b[0m\u001b[1;32m     12\u001b[0m \u001b[0mops\u001b[0m\u001b[0;34m.\u001b[0m\u001b[0maddToParameter\u001b[0m\u001b[0;34m(\u001b[0m\u001b[0;36m12\u001b[0m\u001b[0;34m,\u001b[0m \u001b[0;34m'element'\u001b[0m\u001b[0;34m,\u001b[0m \u001b[0mrightColTag\u001b[0m\u001b[0;34m,\u001b[0m \u001b[0;34m\"E\"\u001b[0m\u001b[0;34m)\u001b[0m\u001b[0;34m\u001b[0m\u001b[0;34m\u001b[0m\u001b[0m\n\u001b[1;32m     13\u001b[0m \u001b[0mops\u001b[0m\u001b[0;34m.\u001b[0m\u001b[0mparameter\u001b[0m\u001b[0;34m(\u001b[0m\u001b[0;36m25\u001b[0m\u001b[0;34m,\u001b[0m \u001b[0;34m'randomVariable'\u001b[0m\u001b[0;34m,\u001b[0m \u001b[0;36m32\u001b[0m\u001b[0;34m,\u001b[0m\u001b[0;34m\"loadPattern\"\u001b[0m\u001b[0;34m,\u001b[0m \u001b[0mpatternTag\u001b[0m\u001b[0;34m,\u001b[0m\u001b[0;34m\"loadAtNode\"\u001b[0m\u001b[0;34m,\u001b[0m \u001b[0;36m2\u001b[0m\u001b[0;34m,\u001b[0m \u001b[0;36m1\u001b[0m\u001b[0;34m)\u001b[0m\u001b[0;34m\u001b[0m\u001b[0;34m\u001b[0m\u001b[0m\n",
      "\u001b[0;31mNameError\u001b[0m: name 'leftColTag' is not defined"
     ]
    }
   ],
   "source": [
    "E=30e3\n",
    "P=25.0\n",
    "w=0.1\n",
    "x=0.0\n",
    "\n",
    "ops.randomVariable(62, 'lognormal', '-mean', E, '-stdv', 0.1*E)\n",
    "ops.randomVariable(32, 'normal', '-mean', P, '-stdv', 0.2*P)\n",
    "ops.randomVariable(89, 'normal', '-mean', 0, '-stdv', 1)\n",
    "ops.randomVariable(41, 'normal', '-mean', -w, '-stdv', abs(0.2*w))\n",
    "\n",
    "ops.parameter(12, 'randomVariable', 62, \"element\", leftColTag, \"E\")\n",
    "ops.addToParameter(12, 'element', rightColTag, \"E\")\n",
    "ops.parameter(25, 'randomVariable', 32,\"loadPattern\", patternTag,\"loadAtNode\", 2, 1)\n",
    "ops.parameter(3, 'randomVariable', 89,\"node\", 1, \"coord\", 1)\n",
    "ops.parameter(45, 'randomVariable', 41,\"loadPattern\", patternTag,\"elementLoad\", girderTag, \"wy\")\n",
    "ops.parameter(23, \"node\", 2, \"disp\", 1)\n",
    "\n",
    "ops.performanceFunction(76, \"0.15-par[23]\")\n",
    "\n",
    "ops.sensitivityAlgorithm(\"-computeAtEachStep\")\n",
    "\n",
    "ops.randomNumberGenerator('CStdLib')\n",
    "ops.probabilityTransformation('Nataf', \"-print\", 3)\n",
    "ops.reliabilityConvergenceCheck('Standard', \"-e1\", 1e-2,\n",
    "                                \"-e2\", 1e-2, \"-print\", 1)\n",
    "ops.functionEvaluator('Python', \"-file\", \"opensees.analyze(1)\")\n",
    "ops.gradientEvaluator('Implicit')\n",
    "ops.searchDirection('iHLRF')\n",
    "ops.meritFunctionCheck('AdkZhang', \"-multi\", 2.0, \"-add\", 50.0,\n",
    "                       \"-factor\", 0.5)\n",
    "ops.stepSizeRule('Armijo', \"-maxNum\", 10, \"-base\", 0.5,\n",
    "                 \"-initial\", 0.3, 5)\n",
    "ops.stepSizeRule('Fixed', \"-stepSize\", 1.0)\n",
    "ops.startPoint('Mean')\n",
    "ops.findDesignPoint('StepSearch', \"-maxNumIter\", 30)\n",
    "\n",
    "ops.runFORMAnalysis('portalframe.out')\n",
    "\n",
    "for perf in ops.getLSFTags():\n",
    "    print(f\"Performance Function {perf}\")\n",
    "    print(f\"beta = {ops.betaFORM[perf]:.7f}\")\n",
    "    for rv in ops.getRVTags():\n",
    "        print(\n",
    "            f\"\\t x*({rv}) = {ops.designPointXFORM[perf, rv]:7.4f}, alpha({rv}) = {ops.alphaFORM[perf, rv]:7.4f}, gamma({rv}) = {ops.gammaFORM[perf, rv]}\")"
   ]
  },
  {
   "cell_type": "markdown",
   "id": "24e1e11c-b4ea-432b-91e4-cd4d08e2d414",
   "metadata": {},
   "source": [
    "## Pystra"
   ]
  },
  {
   "cell_type": "code",
   "execution_count": 81,
   "id": "2ff975b0-c491-4143-b792-c8353b9f0182",
   "metadata": {},
   "outputs": [],
   "source": [
    "limit_state = ra.LimitState(lsf)\n",
    "options = ra.AnalysisOptions()"
   ]
  },
  {
   "cell_type": "code",
   "execution_count": 84,
   "id": "e279a793-8007-4b8d-bf88-0f294114c298",
   "metadata": {},
   "outputs": [],
   "source": [
    "stochastic_model = ra.StochasticModel()\n",
    "stochastic_model.addVariable(ra.Lognormal(\"E\", 30e3, 3e3))\n",
    "stochastic_model.addVariable(ra.Normal(\"P\", 25, 5))\n",
    "stochastic_model.addVariable(ra.Normal(\"x\", 0, 1))\n",
    "stochastic_model.addVariable(ra.Uniform(\"w\", 0.1, 0.02))"
   ]
  },
  {
   "cell_type": "code",
   "execution_count": 85,
   "id": "2d124b9f-e454-4c2e-98b5-40d379421ec4",
   "metadata": {},
   "outputs": [
    {
     "name": "stdout",
     "output_type": "stream",
     "text": [
      "\n",
      "======================================================\n",
      "FORM\n",
      "======================================================\n",
      "Pf              \t 1.2910055315e-02\n",
      "BetaHL          \t 2.2289067392\n",
      "Model Evaluations \t 71\n",
      "------------------------------------------------------\n",
      "Variable   \t    U_star \t       X_star \t     alpha\n",
      "E          \t -1.256322 \t 26335.092481 \t -0.563616\n",
      "P          \t  1.841094 \t    34.205468 \t +0.826030\n",
      "x          \t  0.007319 \t     0.007319 \t +0.003282\n",
      "w          \t -0.000060 \t     0.099998 \t -0.000027\n",
      "======================================================\n",
      "\n"
     ]
    }
   ],
   "source": [
    "form = ra.Form(\n",
    "    analysis_options=options,\n",
    "    stochastic_model=stochastic_model,\n",
    "    limit_state=limit_state,\n",
    ")\n",
    "form.run()\n",
    "form.showDetailedOutput()"
   ]
  },
  {
   "cell_type": "code",
   "execution_count": 87,
   "id": "9f43c662-6023-4a3e-b3f7-1f14a10577c6",
   "metadata": {},
   "outputs": [
    {
     "name": "stdout",
     "output_type": "stream",
     "text": [
      "\n",
      "======================================================\n",
      "FORM/SORM\n",
      "======================================================\n",
      "Pf FORM         \t\t 1.2910055315e-02\n",
      "Pf SORM Breitung \t\t 1.2392501137e-02\n",
      "Pf SORM Breitung HR \t 1.2317169145e-02\n",
      "Beta_HL         \t\t 2.2289067392\n",
      "Beta_G Breitung \t\t 2.2447372958\n",
      "Beta_G Breitung HR \t\t 2.2470890234\n",
      "Model Evaluations \t\t 121\n",
      "------------------------------------------------------\n",
      "Curvature 1: -0.0037714867634500203\n",
      "Curvature 2: 0.003669292413446555\n",
      "Curvature 3: 0.038401380765963646\n",
      "------------------------------------------------------\n",
      "Variable   \t    U_star \t       X_star \t     alpha\n",
      "E          \t -1.256322 \t 26335.092481 \t -0.563616\n",
      "P          \t  1.841094 \t    34.205468 \t +0.826030\n",
      "x          \t  0.007319 \t     0.007319 \t +0.003282\n",
      "w          \t -0.000060 \t     0.099998 \t -0.000027\n",
      "======================================================\n",
      "\n"
     ]
    }
   ],
   "source": [
    "sorm = ra.Sorm(\n",
    "    analysis_options=options,\n",
    "    stochastic_model=stochastic_model,\n",
    "    limit_state=limit_state,\n",
    "    form=form,\n",
    ")\n",
    "sorm.run()\n",
    "sorm.showDetailedOutput()"
   ]
  },
  {
   "cell_type": "code",
   "execution_count": null,
   "id": "4581eb2d-addc-4179-ab5d-789197fcfae6",
   "metadata": {},
   "outputs": [],
   "source": []
  }
 ],
 "metadata": {
  "kernelspec": {
   "display_name": "pystra",
   "language": "python",
   "name": "pystra"
  },
  "language_info": {
   "codemirror_mode": {
    "name": "ipython",
    "version": 3
   },
   "file_extension": ".py",
   "mimetype": "text/x-python",
   "name": "python",
   "nbconvert_exporter": "python",
   "pygments_lexer": "ipython3",
   "version": "3.10.6"
  }
 },
 "nbformat": 4,
 "nbformat_minor": 5
}
